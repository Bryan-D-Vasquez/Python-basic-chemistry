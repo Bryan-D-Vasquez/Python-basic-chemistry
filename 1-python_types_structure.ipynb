{
 "cells": [
  {
   "cell_type": "markdown",
   "metadata": {},
   "source": [
    "# Data Types"
   ]
  },
  {
   "cell_type": "markdown",
   "metadata": {},
   "source": [
    "### Variables\n"
   ]
  },
  {
   "cell_type": "markdown",
   "metadata": {},
   "source": [
    "```python \n",
    "    ## Strings\n",
    "\n",
    "    name = \"Bryan\"\n",
    "    last_name = \"Vasquez Paz\"\n",
    "    middle_name = \"David\"\n",
    "\n",
    "    ## Integer numbers\n",
    "\n",
    "    age = 31\n",
    "\n",
    "    ## Float numbers\n",
    "\n",
    "    weight = 82.1\n",
    "\n",
    "    ## Boolean\n",
    "\n",
    "    married = True\n",
    "\n",
    "    print(name)\n",
    "    print(age)\n",
    "    print(weight)\n",
    "    print(married)"
   ]
  },
  {
   "cell_type": "code",
   "execution_count": null,
   "metadata": {},
   "outputs": [],
   "source": []
  },
  {
   "cell_type": "markdown",
   "metadata": {},
   "source": [
    "## 1 - Strings (str)"
   ]
  },
  {
   "cell_type": "markdown",
   "metadata": {},
   "source": [
    "```python\n",
    "    ## Double quote\n",
    "    my_string = \"hello world\"\n",
    "\n",
    "    print(my_string)\n",
    "    type(my_string)"
   ]
  },
  {
   "cell_type": "code",
   "execution_count": null,
   "metadata": {},
   "outputs": [],
   "source": []
  },
  {
   "cell_type": "markdown",
   "metadata": {},
   "source": [
    "```python \n",
    "    ## Single quote\n",
    "    my_other_string = 'hello family'\n",
    "|\n",
    "    print(my_other_string)  "
   ]
  },
  {
   "cell_type": "code",
   "execution_count": null,
   "metadata": {},
   "outputs": [],
   "source": []
  },
  {
   "cell_type": "markdown",
   "metadata": {},
   "source": [
    "## 2 - Integer (int)"
   ]
  },
  {
   "cell_type": "markdown",
   "metadata": {},
   "source": [
    "```python\n",
    "    my_number = 2\n",
    "\n",
    "    print(my_number)\n",
    "    type(my_number)"
   ]
  },
  {
   "cell_type": "code",
   "execution_count": null,
   "metadata": {},
   "outputs": [],
   "source": []
  },
  {
   "cell_type": "markdown",
   "metadata": {},
   "source": [
    "### Operations"
   ]
  },
  {
   "cell_type": "markdown",
   "metadata": {},
   "source": [
    "```python\n",
    "    operation_1 = 2 + 2\n",
    "    operation_2 = 10 - 5\n",
    "    operation_3 = 11 * 2\n",
    "    operation_4 = 11 / 2   # Normal division\n",
    "    operation_5 = 11 // 2  # Quotient\n",
    "    operation_6 = 11 % 2   # Remainder\n",
    "    operation_7 = 12 ** 2\n",
    "\n",
    "    print(operation_1)\n",
    "    print(operation_2)\n",
    "    print(operation_3)\n",
    "    print(operation_4)\n",
    "    print(operation_5)\n",
    "    print(operation_6)\n",
    "    print(operation_7)"
   ]
  },
  {
   "cell_type": "code",
   "execution_count": null,
   "metadata": {},
   "outputs": [],
   "source": []
  },
  {
   "cell_type": "markdown",
   "metadata": {},
   "source": [
    "## 3 - Float (float)"
   ]
  },
  {
   "cell_type": "markdown",
   "metadata": {},
   "source": [
    "```python\n",
    "    my_float = 3.143459\n",
    "\n",
    "    print(my_float)\n",
    "    type(my_float)"
   ]
  },
  {
   "cell_type": "code",
   "execution_count": null,
   "metadata": {},
   "outputs": [],
   "source": []
  },
  {
   "cell_type": "markdown",
   "metadata": {},
   "source": [
    "Try to do some float operations a see it"
   ]
  },
  {
   "cell_type": "markdown",
   "metadata": {},
   "source": [
    "## 4 - Boolean (bool)\n"
   ]
  },
  {
   "cell_type": "markdown",
   "metadata": {},
   "source": [
    "```python\n",
    "    my_true = True\n",
    "    my_false = False\n",
    "\n",
    "    print(my_true)\n",
    "    print(my_false)\n",
    "    type(my_true)\n",
    "    type(my_false)"
   ]
  },
  {
   "cell_type": "code",
   "execution_count": null,
   "metadata": {},
   "outputs": [],
   "source": []
  },
  {
   "cell_type": "markdown",
   "metadata": {},
   "source": [
    "## 5 - Logic operations"
   ]
  },
  {
   "cell_type": "markdown",
   "metadata": {},
   "source": [
    "```python\n",
    "and\n",
    "\n",
    "    logic_1 = (True and True)\n",
    "    logic_2 = (True and False)\n",
    "    logic_3 = (False and True)\n",
    "    logic_4 = (False and False)\n",
    "\n",
    "    print(logic_1)\n",
    "    print(logic_2)\n",
    "    print(logic_3)\n",
    "    print(logic_4)"
   ]
  },
  {
   "cell_type": "code",
   "execution_count": null,
   "metadata": {},
   "outputs": [],
   "source": []
  },
  {
   "cell_type": "markdown",
   "metadata": {},
   "source": [
    "```python\n",
    "or\n",
    "\n",
    "    logic_5 = (True or True)\n",
    "    logic_6 = (True or False)\n",
    "    logic_7 = (False or True)\n",
    "    logic_8 = (False or False)\n",
    "\n",
    "    print(logic_5)\n",
    "    print(logic_6)\n",
    "    print(logic_7)\n",
    "    print(logic_8)\n"
   ]
  },
  {
   "cell_type": "code",
   "execution_count": null,
   "metadata": {},
   "outputs": [],
   "source": []
  },
  {
   "cell_type": "markdown",
   "metadata": {},
   "source": [
    "```python\n",
    "not\n",
    "\n",
    "    not_true = not True\n",
    "    not_false = not False\n",
    "\n",
    "    print(not_true)\n",
    "    print(not_false)"
   ]
  },
  {
   "cell_type": "code",
   "execution_count": null,
   "metadata": {},
   "outputs": [],
   "source": []
  },
  {
   "cell_type": "markdown",
   "metadata": {},
   "source": [
    "## 6 - Useful functions"
   ]
  },
  {
   "cell_type": "markdown",
   "metadata": {},
   "source": [
    "### str()"
   ]
  },
  {
   "cell_type": "markdown",
   "metadata": {},
   "source": [
    "```python\n",
    "    age = 35\n",
    "    type(age)\n",
    "    print(age)\n",
    "\n",
    "    age_str = str(age)\n",
    "    type(age_str)\n",
    "    print(age_str)"
   ]
  },
  {
   "cell_type": "code",
   "execution_count": null,
   "metadata": {},
   "outputs": [],
   "source": []
  },
  {
   "cell_type": "markdown",
   "metadata": {},
   "source": [
    "### int()"
   ]
  },
  {
   "cell_type": "markdown",
   "metadata": {},
   "source": [
    "```python\n",
    "    year = \"2024\"\n",
    "    type(year)\n",
    "    print(year)\n",
    "\n",
    "    year_int = (year)\n",
    "    type(year_int)\n",
    "    print(year_int)"
   ]
  },
  {
   "cell_type": "code",
   "execution_count": null,
   "metadata": {},
   "outputs": [],
   "source": []
  },
  {
   "cell_type": "markdown",
   "metadata": {},
   "source": [
    "### print() and format()"
   ]
  },
  {
   "cell_type": "markdown",
   "metadata": {},
   "source": [
    "```python\n",
    "    name = \"bryan\"\n",
    "    age = 32\n",
    "\n",
    "    print(\"My name is {} and I am {} years old\".format(name, age))\n",
    "\n",
    "    print(f\"My name is {name} and I am {age} years old\")"
   ]
  },
  {
   "cell_type": "code",
   "execution_count": null,
   "metadata": {},
   "outputs": [],
   "source": []
  },
  {
   "cell_type": "markdown",
   "metadata": {},
   "source": [
    "### input()"
   ]
  },
  {
   "cell_type": "markdown",
   "metadata": {},
   "source": [
    "```python\n",
    "    name = input(\"What is your name: \")\n",
    "    last_name = input(\"What is your last name: \")\n",
    "\n",
    "    print(name)\n",
    "\n",
    "    print(f\"your name is {name} and your last name is {last_name}\")"
   ]
  },
  {
   "cell_type": "code",
   "execution_count": null,
   "metadata": {},
   "outputs": [],
   "source": []
  },
  {
   "cell_type": "markdown",
   "metadata": {},
   "source": [
    "# Data Structure"
   ]
  },
  {
   "cell_type": "markdown",
   "metadata": {},
   "source": [
    "## 1 - Lists"
   ]
  },
  {
   "cell_type": "markdown",
   "metadata": {},
   "source": [
    "### Creation"
   ]
  },
  {
   "cell_type": "markdown",
   "metadata": {},
   "source": [
    "```python\n",
    "    my_empty_list = []\n",
    "\n",
    "    my_number_list = [1,2,3,4,5,6,7,7,7,8,3,4,5]\n",
    "\n",
    "    my_string_list = [\"bryan\", \"cristian\", \"melissa\", \"estefani\"]\n",
    "\n",
    "    my_crazy_list = [1,2,\"bryan\", 3.14, \"melissa\", True] \n",
    "\n",
    "    print(my_empty_list)\n",
    "    print(my_number_list)\n",
    "    print(my_string_list)\n",
    "    \n",
    "    type(my_number_list)"
   ]
  },
  {
   "cell_type": "code",
   "execution_count": null,
   "metadata": {},
   "outputs": [],
   "source": []
  },
  {
   "cell_type": "markdown",
   "metadata": {},
   "source": [
    "### Read "
   ]
  },
  {
   "cell_type": "markdown",
   "metadata": {},
   "source": [
    "```python\n",
    "\n",
    "    print(my_number_list)\n",
    "\n",
    "    my_number_list[0]\n",
    "\n",
    "    my_number_list[1]\n",
    "\n",
    "    my_number_list[2]\n",
    "\n",
    "    my_number_list[-1]\n",
    "\n",
    "    my_string_list[1]"
   ]
  },
  {
   "cell_type": "code",
   "execution_count": null,
   "metadata": {},
   "outputs": [],
   "source": []
  },
  {
   "cell_type": "markdown",
   "metadata": {},
   "source": [
    "### Slicing"
   ]
  },
  {
   "cell_type": "markdown",
   "metadata": {},
   "source": [
    "```python\n",
    "    my_number_list[0:3]\n",
    "\n",
    "    my_number_list[:4]\n",
    "\n",
    "    my_number_list[2:]"
   ]
  },
  {
   "cell_type": "code",
   "execution_count": null,
   "metadata": {},
   "outputs": [],
   "source": []
  },
  {
   "cell_type": "markdown",
   "metadata": {},
   "source": [
    "### Update"
   ]
  },
  {
   "cell_type": "markdown",
   "metadata": {},
   "source": [
    "```python\n",
    "    my_number_list[0] = 100\n",
    "    \n",
    "    print(my_number_list)\n",
    "\n",
    "    my_string_list[2] = \"magnolia\"\n",
    "    \n",
    "    print(my_string_list)"
   ]
  },
  {
   "cell_type": "code",
   "execution_count": null,
   "metadata": {},
   "outputs": [],
   "source": []
  },
  {
   "cell_type": "markdown",
   "metadata": {},
   "source": [
    "### Delete"
   ]
  },
  {
   "cell_type": "markdown",
   "metadata": {},
   "source": [
    "```python\n",
    "    print(my_string_list)\n",
    "\n",
    "    ## Using pop()\n",
    "    my_string_list.pop()\n",
    "\n",
    "    print(my_string_list)\n",
    "\n",
    "    my_string_list.pop(1)\n",
    "\n",
    "    print(my_string_list)\n",
    "\n",
    "\n",
    "\n",
    "    print(my_number_list)\n",
    "\n",
    "    del my_number_list[1]\n",
    "\n",
    "    print(my_number_list)"
   ]
  },
  {
   "cell_type": "code",
   "execution_count": null,
   "metadata": {},
   "outputs": [],
   "source": []
  },
  {
   "cell_type": "markdown",
   "metadata": {},
   "source": [
    "## 2 - Tuples"
   ]
  },
  {
   "cell_type": "markdown",
   "metadata": {},
   "source": [
    "### Creation"
   ]
  },
  {
   "cell_type": "markdown",
   "metadata": {},
   "source": [
    "```python\n",
    "    my_empty_tuple = ()\n",
    "\n",
    "    my_number_tuple = (1,2,3,4,5,6,7,7,7,8)\n",
    "\n",
    "    my_string_tuple = (\"bryan\", \"cristian\", \"melissa\", \"estefani\")\n",
    "\n",
    "    my_crazy_tuple = (1,2,\"bryan\", 3.14, \"melissa\", True)\n",
    "\n",
    "    print(my_number_tuple)\n",
    "    print(my_string_tuple)\n",
    "    print(my_crazy_tuple)\n",
    "\n",
    "    type(my_crazy_tuple)\n"
   ]
  },
  {
   "cell_type": "code",
   "execution_count": null,
   "metadata": {},
   "outputs": [],
   "source": []
  },
  {
   "cell_type": "markdown",
   "metadata": {},
   "source": [
    "### Slicing"
   ]
  },
  {
   "cell_type": "markdown",
   "metadata": {},
   "source": [
    "```python\n",
    "    my_number_tuple[0:3]\n",
    "\n",
    "    my_string_tuple[:4]\n",
    "\n",
    "    my_crazy_tuple[2:]"
   ]
  },
  {
   "cell_type": "code",
   "execution_count": null,
   "metadata": {},
   "outputs": [],
   "source": []
  },
  {
   "cell_type": "markdown",
   "metadata": {},
   "source": [
    "### Update and Delete"
   ]
  },
  {
   "cell_type": "markdown",
   "metadata": {},
   "source": [
    "```python\n",
    "    my_number_tuple[0] = 100\n",
    "\n",
    "    my_string_tuple[2] = \"magnolia\"\n",
    "\n",
    "    my_number_tuple.pop(0)\n",
    "\n",
    "    del my_number_tuple[1]"
   ]
  },
  {
   "cell_type": "code",
   "execution_count": null,
   "metadata": {},
   "outputs": [],
   "source": []
  },
  {
   "cell_type": "markdown",
   "metadata": {},
   "source": [
    "## 3 - Dictionaries"
   ]
  },
  {
   "cell_type": "markdown",
   "metadata": {},
   "source": [
    "### Creation"
   ]
  },
  {
   "cell_type": "markdown",
   "metadata": {},
   "source": [
    "```python\n",
    "    member_1 = {\"name\":\"bryan\", \"age\":31, \"married\":True, \"sec\":\"Male\", \"email\": \"bryan.david@gmail.com\"}\n",
    "\n",
    "    member_1 = {\n",
    "        \"name\": \"bryan\",\n",
    "        \"age\": 31,\n",
    "        \"married\": True,\n",
    "        \"sex\": \"Male\",\n",
    "        \"email\": \"bryan.david@gmail.com\"\n",
    "    }\n",
    "\n",
    "    member_2 = {\n",
    "        \"name\": \"melissa\",\n",
    "        \"age\": 31,\n",
    "        \"married\": True,\n",
    "        \"sex\": \"Female\",\n",
    "        \"email\": \"melissa.mejia@gmail.com\"\n",
    "    }"
   ]
  },
  {
   "cell_type": "code",
   "execution_count": null,
   "metadata": {},
   "outputs": [],
   "source": []
  },
  {
   "cell_type": "markdown",
   "metadata": {},
   "source": [
    "### Read"
   ]
  },
  {
   "cell_type": "markdown",
   "metadata": {},
   "source": [
    "```python\n",
    "    member_1[\"name\"]\n",
    "\n",
    "    member_2[\"name\"]\n",
    "\n",
    "    member_1[\"email\"]\n",
    "\n",
    "    member_2[\"sex\"]"
   ]
  },
  {
   "cell_type": "code",
   "execution_count": null,
   "metadata": {},
   "outputs": [],
   "source": []
  },
  {
   "cell_type": "markdown",
   "metadata": {},
   "source": [
    "### Update"
   ]
  },
  {
   "cell_type": "markdown",
   "metadata": {},
   "source": [
    "```python\n",
    "    member_1[\"age\"] = 32\n",
    "\n",
    "    print(member_1)\n",
    "\n",
    "    member_2[\"email\"] = \"melissa.guti@gmail.com\"\n",
    "\n",
    "    print(member_2)"
   ]
  },
  {
   "cell_type": "code",
   "execution_count": null,
   "metadata": {},
   "outputs": [],
   "source": []
  },
  {
   "cell_type": "markdown",
   "metadata": {},
   "source": [
    "### Delete"
   ]
  },
  {
   "cell_type": "markdown",
   "metadata": {},
   "source": [
    "```python\n",
    "    print(member_1)\n",
    "\n",
    "    member_1.pop(\"age\")\n",
    "\n",
    "    print(member_1)\n",
    "\n",
    "    \n",
    "    print(member_2)\n",
    "\n",
    "    del member_2[\"sex\"]\n",
    "\n",
    "    print(member_2)\n",
    "\n"
   ]
  },
  {
   "cell_type": "code",
   "execution_count": null,
   "metadata": {},
   "outputs": [],
   "source": []
  },
  {
   "cell_type": "markdown",
   "metadata": {},
   "source": [
    "## 4 - Useful functions"
   ]
  },
  {
   "cell_type": "markdown",
   "metadata": {},
   "source": [
    "### append()"
   ]
  },
  {
   "cell_type": "markdown",
   "metadata": {},
   "source": [
    "```python\n",
    "\n",
    "    my_other_list = [1,2,3,6,5,4]\n",
    "\n",
    "    new_number = 7\n",
    "\n",
    "    my_new_list = my_other_list.append(new_number)\n",
    "\n",
    "    print(my_other_list)"
   ]
  },
  {
   "cell_type": "code",
   "execution_count": null,
   "metadata": {},
   "outputs": [],
   "source": []
  },
  {
   "cell_type": "markdown",
   "metadata": {},
   "source": [
    "```python\n",
    "    english_members = [\"bryan\", \"melissa\", \"estefani\", \"cristian\"]\n",
    "    print(english_members)\n",
    "\n",
    "    # Update the list\n",
    "\n",
    "    new_member = \"alfonso\"\n",
    "\n",
    "    english_members = english_members.append(new_member)\n",
    "    print(english_members)\n",
    "\n",
    "    #Update the list again\n",
    "\n",
    "    new_member = \"diana\"\n",
    "\n",
    "    english_members = english_members.append(new_member)\n",
    "    print(english_members)"
   ]
  },
  {
   "cell_type": "code",
   "execution_count": null,
   "metadata": {},
   "outputs": [],
   "source": []
  },
  {
   "cell_type": "markdown",
   "metadata": {},
   "source": [
    "### insert()"
   ]
  },
  {
   "cell_type": "markdown",
   "metadata": {},
   "source": [
    "```python\n",
    "    numbers = [1,2,3,4,5]\n",
    "    print(numbers)\n",
    "\n",
    "    numbers.insert(1, \"magnolia\")\n",
    "\n",
    "    print(numbers)\n",
    "\n",
    "    numbers.insert(-1, 666)\n",
    "\n",
    "    print(numbers)"
   ]
  },
  {
   "cell_type": "code",
   "execution_count": null,
   "metadata": {},
   "outputs": [],
   "source": []
  },
  {
   "cell_type": "markdown",
   "metadata": {},
   "source": [
    "### index()"
   ]
  },
  {
   "cell_type": "markdown",
   "metadata": {},
   "source": [
    "```python\n",
    "    letters = [\"z\", \"y\", \"x\", \"a\", \"b\"]\n",
    "    \n",
    "    letters.index(\"z\")"
   ]
  },
  {
   "cell_type": "code",
   "execution_count": null,
   "metadata": {},
   "outputs": [],
   "source": []
  },
  {
   "cell_type": "markdown",
   "metadata": {},
   "source": [
    "```python    \n",
    "    english_members = [\"bryan\", \"melissa\", \"estefani\", \"cristian\"]\n",
    "    \n",
    "    melissa_position = english_members.index(\"melissa\")\n",
    "\n",
    "    print(\"The position of melissa in the list english members is \", melissa_position)"
   ]
  },
  {
   "cell_type": "code",
   "execution_count": null,
   "metadata": {},
   "outputs": [],
   "source": []
  },
  {
   "cell_type": "markdown",
   "metadata": {},
   "source": [
    "### reverse()"
   ]
  },
  {
   "cell_type": "markdown",
   "metadata": {},
   "source": [
    "```python\n",
    "    elements = [1,2,3,\"car\", \"shoe\"]\n",
    "    print(elements)\n",
    "\n",
    "    elements.reverse()\n",
    "\n",
    "    print(elements)"
   ]
  },
  {
   "cell_type": "code",
   "execution_count": null,
   "metadata": {},
   "outputs": [],
   "source": []
  },
  {
   "cell_type": "markdown",
   "metadata": {},
   "source": [
    "### sort()"
   ]
  },
  {
   "cell_type": "markdown",
   "metadata": {},
   "source": [
    "```python\n",
    "    numbers = [5,2,78,4,2,8,77,5]\n",
    "\n",
    "    print(numbers)\n",
    "\n",
    "    numbers.sort()\n",
    "\n",
    "    print(numbers)"
   ]
  },
  {
   "cell_type": "code",
   "execution_count": null,
   "metadata": {},
   "outputs": [],
   "source": []
  },
  {
   "cell_type": "markdown",
   "metadata": {},
   "source": [
    "```python\n",
    "    english_members = [\"magnolia\", \"melissa\", \"cristian\", \"estefani\", \"bryan\"]\n",
    "    print(english_members)\n",
    "\n",
    "    english_members.sort()"
   ]
  },
  {
   "cell_type": "code",
   "execution_count": null,
   "metadata": {},
   "outputs": [],
   "source": []
  },
  {
   "cell_type": "markdown",
   "metadata": {},
   "source": [
    "### range()"
   ]
  },
  {
   "cell_type": "markdown",
   "metadata": {},
   "source": [
    "```python \n",
    "    my_range = range(1,10)\n",
    "    print(my_range)\n",
    "\n",
    "    my_other_range = range(20)\n",
    "    print(my_other_range)\n"
   ]
  },
  {
   "cell_type": "code",
   "execution_count": null,
   "metadata": {},
   "outputs": [],
   "source": [
    "\n"
   ]
  },
  {
   "cell_type": "markdown",
   "metadata": {},
   "source": [
    "### list() and tuple()"
   ]
  },
  {
   "cell_type": "markdown",
   "metadata": {},
   "source": [
    "```python\n",
    "    numbers = [1,2,3,4,5,6] \n",
    "    print(numbers)\n",
    "    print(type(numbers))\n",
    "\n",
    "    tuple(numbers)\n",
    "    print(numbers)\n",
    "    print(type(numbers))\n",
    "\n",
    "    list(numbers)\n",
    "    print(numbers)\n",
    "    print(type(numbers))"
   ]
  },
  {
   "cell_type": "code",
   "execution_count": null,
   "metadata": {},
   "outputs": [],
   "source": []
  },
  {
   "cell_type": "markdown",
   "metadata": {},
   "source": [
    "# Data Types and Data Structure Implementation (project)"
   ]
  },
  {
   "cell_type": "markdown",
   "metadata": {},
   "source": [
    "1) Image that you have a company and you decide to increase de salary of each employ create a python script that ask you for the employ data and print a letter for each employ using the variables, name, last_name, years_working, current_salary, amount_salary_up, new_salary.  "
   ]
  },
  {
   "cell_type": "code",
   "execution_count": null,
   "metadata": {},
   "outputs": [],
   "source": []
  },
  {
   "cell_type": "markdown",
   "metadata": {},
   "source": [
    "2. Now try to use a dictionary structure to save al the information with a variable employ_id, and print the letter using the new dictionary eg.\n",
    "```python\n",
    "    id_00001 = {\n",
    "        \"name\": \"\",\n",
    "        \"last\"\n",
    "    }"
   ]
  },
  {
   "cell_type": "code",
   "execution_count": null,
   "metadata": {},
   "outputs": [],
   "source": []
  }
 ],
 "metadata": {
  "kernelspec": {
   "display_name": "Python 3",
   "language": "python",
   "name": "python3"
  },
  "language_info": {
   "codemirror_mode": {
    "name": "ipython",
    "version": 3
   },
   "file_extension": ".py",
   "mimetype": "text/x-python",
   "name": "python",
   "nbconvert_exporter": "python",
   "pygments_lexer": "ipython3",
   "version": "3.9.6"
  }
 },
 "nbformat": 4,
 "nbformat_minor": 2
}
